{
 "cells": [
  {
   "cell_type": "code",
   "execution_count": 64,
   "id": "336abf81",
   "metadata": {},
   "outputs": [],
   "source": [
    "import numpy as np\n",
    "import pandas as pd\n",
    "import seaborn as sns\n",
    "import matplotlib.pyplot as plt\n",
    "\n",
    "from sklearn.preprocessing import LabelEncoder\n",
    "\n",
    "from sklearn.preprocessing import scale\n",
    "from sklearn.metrics import confusion_matrix, recall_score, accuracy_score, precision_score\n",
    "\n",
    "from sklearn.ensemble import GradientBoostingClassifier\n",
    "from sklearn.linear_model import LogisticRegression\n",
    "from sklearn.ensemble import RandomForestClassifier\n",
    "\n",
    "from xgboost import XGBClassifier as xgb\n",
    "\n",
    "from sklearn import preprocessing \n",
    "\n",
    "import matplotlib.pyplot as plt\n",
    "import numpy\n",
    "from sklearn import metrics\n",
    "\n",
    "from sklearn.metrics import classification_report, confusion_matrix \n"
   ]
  },
  {
   "cell_type": "markdown",
   "id": "64ea95d8",
   "metadata": {},
   "source": [
    "### MODELADO"
   ]
  },
  {
   "cell_type": "code",
   "execution_count": 35,
   "id": "7661e23a",
   "metadata": {},
   "outputs": [],
   "source": [
    "final_df_labels = pd.read_csv(r\"final_df_labels.csv\")"
   ]
  },
  {
   "cell_type": "code",
   "execution_count": 36,
   "id": "a421f36a",
   "metadata": {},
   "outputs": [],
   "source": [
    "# final_df_labels_2.info()"
   ]
  },
  {
   "cell_type": "code",
   "execution_count": 37,
   "id": "72559dd0",
   "metadata": {},
   "outputs": [],
   "source": [
    "final_df_labels[\"datetime\"] = pd.to_datetime(final_df_labels[\"datetime\"], format=\"%Y-%m-%d %H:%M:%S\")\n",
    "\n",
    "# 2021-01-02 06:00:00"
   ]
  },
  {
   "cell_type": "code",
   "execution_count": 38,
   "id": "a4b55c4b",
   "metadata": {},
   "outputs": [],
   "source": [
    "# final_df_labels.info()"
   ]
  },
  {
   "cell_type": "code",
   "execution_count": 39,
   "id": "bbe4642b",
   "metadata": {},
   "outputs": [
    {
     "data": {
      "text/html": [
       "<div>\n",
       "<style scoped>\n",
       "    .dataframe tbody tr th:only-of-type {\n",
       "        vertical-align: middle;\n",
       "    }\n",
       "\n",
       "    .dataframe tbody tr th {\n",
       "        vertical-align: top;\n",
       "    }\n",
       "\n",
       "    .dataframe thead th {\n",
       "        text-align: right;\n",
       "    }\n",
       "</style>\n",
       "<table border=\"1\" class=\"dataframe\">\n",
       "  <thead>\n",
       "    <tr style=\"text-align: right;\">\n",
       "      <th></th>\n",
       "      <th>machineID</th>\n",
       "      <th>datetime</th>\n",
       "      <th>voltmean_3h</th>\n",
       "      <th>rotatemean_3h</th>\n",
       "      <th>pressuremean_3h</th>\n",
       "      <th>vibrationmean_3h</th>\n",
       "      <th>voltsd_3h</th>\n",
       "      <th>rotatesd_3h</th>\n",
       "      <th>pressuresd_3h</th>\n",
       "      <th>vibrationsd_3h</th>\n",
       "      <th>...</th>\n",
       "      <th>error5_count</th>\n",
       "      <th>Part_1</th>\n",
       "      <th>Part_2</th>\n",
       "      <th>Part_3</th>\n",
       "      <th>Part_4</th>\n",
       "      <th>age</th>\n",
       "      <th>model_ALPHA 560 UNIVERSAL</th>\n",
       "      <th>model_JACQUARD TF</th>\n",
       "      <th>model_NOVA 62</th>\n",
       "      <th>model_NOVA 6HS</th>\n",
       "    </tr>\n",
       "  </thead>\n",
       "  <tbody>\n",
       "    <tr>\n",
       "      <th>count</th>\n",
       "      <td>154406.000000</td>\n",
       "      <td>154406</td>\n",
       "      <td>154406.000000</td>\n",
       "      <td>154406.000000</td>\n",
       "      <td>154406.000000</td>\n",
       "      <td>154406.000000</td>\n",
       "      <td>154406.000000</td>\n",
       "      <td>154406.000000</td>\n",
       "      <td>154406.000000</td>\n",
       "      <td>154406.000000</td>\n",
       "      <td>...</td>\n",
       "      <td>154406.000000</td>\n",
       "      <td>154406.000000</td>\n",
       "      <td>154406.000000</td>\n",
       "      <td>154406.000000</td>\n",
       "      <td>154406.000000</td>\n",
       "      <td>154406.000000</td>\n",
       "      <td>154406.000000</td>\n",
       "      <td>154406.000000</td>\n",
       "      <td>154406.000000</td>\n",
       "      <td>154406.000000</td>\n",
       "    </tr>\n",
       "    <tr>\n",
       "      <th>mean</th>\n",
       "      <td>24.189021</td>\n",
       "      <td>2021-07-03 05:56:48.629198336</td>\n",
       "      <td>170.737328</td>\n",
       "      <td>446.630071</td>\n",
       "      <td>100.824084</td>\n",
       "      <td>40.384851</td>\n",
       "      <td>13.319525</td>\n",
       "      <td>44.401802</td>\n",
       "      <td>8.868878</td>\n",
       "      <td>4.438182</td>\n",
       "      <td>...</td>\n",
       "      <td>0.009287</td>\n",
       "      <td>49.911593</td>\n",
       "      <td>52.404424</td>\n",
       "      <td>50.749242</td>\n",
       "      <td>52.571153</td>\n",
       "      <td>10.830350</td>\n",
       "      <td>0.150959</td>\n",
       "      <td>0.320758</td>\n",
       "      <td>0.113215</td>\n",
       "      <td>0.415068</td>\n",
       "    </tr>\n",
       "    <tr>\n",
       "      <th>min</th>\n",
       "      <td>1.000000</td>\n",
       "      <td>2021-01-02 06:00:00</td>\n",
       "      <td>125.532506</td>\n",
       "      <td>211.811184</td>\n",
       "      <td>73.951948</td>\n",
       "      <td>26.569635</td>\n",
       "      <td>0.025509</td>\n",
       "      <td>0.078991</td>\n",
       "      <td>0.043181</td>\n",
       "      <td>0.015278</td>\n",
       "      <td>...</td>\n",
       "      <td>0.000000</td>\n",
       "      <td>0.000000</td>\n",
       "      <td>0.000000</td>\n",
       "      <td>0.000000</td>\n",
       "      <td>0.000000</td>\n",
       "      <td>1.000000</td>\n",
       "      <td>0.000000</td>\n",
       "      <td>0.000000</td>\n",
       "      <td>0.000000</td>\n",
       "      <td>0.000000</td>\n",
       "    </tr>\n",
       "    <tr>\n",
       "      <th>25%</th>\n",
       "      <td>12.000000</td>\n",
       "      <td>2021-04-03 06:00:00</td>\n",
       "      <td>164.436951</td>\n",
       "      <td>427.599581</td>\n",
       "      <td>96.235947</td>\n",
       "      <td>38.155272</td>\n",
       "      <td>8.029099</td>\n",
       "      <td>26.879250</td>\n",
       "      <td>5.344680</td>\n",
       "      <td>2.682179</td>\n",
       "      <td>...</td>\n",
       "      <td>0.000000</td>\n",
       "      <td>13.125000</td>\n",
       "      <td>11.375000</td>\n",
       "      <td>13.125000</td>\n",
       "      <td>13.000000</td>\n",
       "      <td>7.000000</td>\n",
       "      <td>0.000000</td>\n",
       "      <td>0.000000</td>\n",
       "      <td>0.000000</td>\n",
       "      <td>0.000000</td>\n",
       "    </tr>\n",
       "    <tr>\n",
       "      <th>50%</th>\n",
       "      <td>25.000000</td>\n",
       "      <td>2021-07-03 06:00:00</td>\n",
       "      <td>170.395369</td>\n",
       "      <td>448.393288</td>\n",
       "      <td>100.200259</td>\n",
       "      <td>40.146202</td>\n",
       "      <td>12.497552</td>\n",
       "      <td>41.764406</td>\n",
       "      <td>8.337897</td>\n",
       "      <td>4.177411</td>\n",
       "      <td>...</td>\n",
       "      <td>0.000000</td>\n",
       "      <td>32.250000</td>\n",
       "      <td>28.125000</td>\n",
       "      <td>31.750000</td>\n",
       "      <td>32.125000</td>\n",
       "      <td>10.000000</td>\n",
       "      <td>0.000000</td>\n",
       "      <td>0.000000</td>\n",
       "      <td>0.000000</td>\n",
       "      <td>0.000000</td>\n",
       "    </tr>\n",
       "    <tr>\n",
       "      <th>75%</th>\n",
       "      <td>36.000000</td>\n",
       "      <td>2021-10-02 06:00:00</td>\n",
       "      <td>176.593409</td>\n",
       "      <td>468.477268</td>\n",
       "      <td>104.428063</td>\n",
       "      <td>42.232505</td>\n",
       "      <td>17.708083</td>\n",
       "      <td>59.016518</td>\n",
       "      <td>11.759020</td>\n",
       "      <td>5.900687</td>\n",
       "      <td>...</td>\n",
       "      <td>0.000000</td>\n",
       "      <td>66.500000</td>\n",
       "      <td>65.500000</td>\n",
       "      <td>64.500000</td>\n",
       "      <td>65.750000</td>\n",
       "      <td>16.000000</td>\n",
       "      <td>0.000000</td>\n",
       "      <td>1.000000</td>\n",
       "      <td>0.000000</td>\n",
       "      <td>1.000000</td>\n",
       "    </tr>\n",
       "    <tr>\n",
       "      <th>max</th>\n",
       "      <td>47.000000</td>\n",
       "      <td>2022-01-01 06:00:00</td>\n",
       "      <td>228.679545</td>\n",
       "      <td>586.682904</td>\n",
       "      <td>162.298051</td>\n",
       "      <td>66.535850</td>\n",
       "      <td>58.444332</td>\n",
       "      <td>179.637880</td>\n",
       "      <td>34.380664</td>\n",
       "      <td>18.305595</td>\n",
       "      <td>...</td>\n",
       "      <td>2.000000</td>\n",
       "      <td>315.875000</td>\n",
       "      <td>339.875000</td>\n",
       "      <td>318.875000</td>\n",
       "      <td>394.875000</td>\n",
       "      <td>20.000000</td>\n",
       "      <td>1.000000</td>\n",
       "      <td>1.000000</td>\n",
       "      <td>1.000000</td>\n",
       "      <td>1.000000</td>\n",
       "    </tr>\n",
       "    <tr>\n",
       "      <th>std</th>\n",
       "      <td>13.878233</td>\n",
       "      <td>NaN</td>\n",
       "      <td>9.443919</td>\n",
       "      <td>33.241003</td>\n",
       "      <td>7.342011</td>\n",
       "      <td>3.452367</td>\n",
       "      <td>6.984298</td>\n",
       "      <td>23.193107</td>\n",
       "      <td>4.651587</td>\n",
       "      <td>2.317079</td>\n",
       "      <td>...</td>\n",
       "      <td>0.096393</td>\n",
       "      <td>53.279712</td>\n",
       "      <td>63.637131</td>\n",
       "      <td>56.634312</td>\n",
       "      <td>60.575753</td>\n",
       "      <td>5.548277</td>\n",
       "      <td>0.358010</td>\n",
       "      <td>0.466770</td>\n",
       "      <td>0.316856</td>\n",
       "      <td>0.492735</td>\n",
       "    </tr>\n",
       "  </tbody>\n",
       "</table>\n",
       "<p>8 rows × 32 columns</p>\n",
       "</div>"
      ],
      "text/plain": [
       "           machineID                       datetime    voltmean_3h  \\\n",
       "count  154406.000000                         154406  154406.000000   \n",
       "mean       24.189021  2021-07-03 05:56:48.629198336     170.737328   \n",
       "min         1.000000            2021-01-02 06:00:00     125.532506   \n",
       "25%        12.000000            2021-04-03 06:00:00     164.436951   \n",
       "50%        25.000000            2021-07-03 06:00:00     170.395369   \n",
       "75%        36.000000            2021-10-02 06:00:00     176.593409   \n",
       "max        47.000000            2022-01-01 06:00:00     228.679545   \n",
       "std        13.878233                            NaN       9.443919   \n",
       "\n",
       "       rotatemean_3h  pressuremean_3h  vibrationmean_3h      voltsd_3h  \\\n",
       "count  154406.000000    154406.000000     154406.000000  154406.000000   \n",
       "mean      446.630071       100.824084         40.384851      13.319525   \n",
       "min       211.811184        73.951948         26.569635       0.025509   \n",
       "25%       427.599581        96.235947         38.155272       8.029099   \n",
       "50%       448.393288       100.200259         40.146202      12.497552   \n",
       "75%       468.477268       104.428063         42.232505      17.708083   \n",
       "max       586.682904       162.298051         66.535850      58.444332   \n",
       "std        33.241003         7.342011          3.452367       6.984298   \n",
       "\n",
       "         rotatesd_3h  pressuresd_3h  vibrationsd_3h  ...   error5_count  \\\n",
       "count  154406.000000  154406.000000   154406.000000  ...  154406.000000   \n",
       "mean       44.401802       8.868878        4.438182  ...       0.009287   \n",
       "min         0.078991       0.043181        0.015278  ...       0.000000   \n",
       "25%        26.879250       5.344680        2.682179  ...       0.000000   \n",
       "50%        41.764406       8.337897        4.177411  ...       0.000000   \n",
       "75%        59.016518      11.759020        5.900687  ...       0.000000   \n",
       "max       179.637880      34.380664       18.305595  ...       2.000000   \n",
       "std        23.193107       4.651587        2.317079  ...       0.096393   \n",
       "\n",
       "              Part_1         Part_2         Part_3         Part_4  \\\n",
       "count  154406.000000  154406.000000  154406.000000  154406.000000   \n",
       "mean       49.911593      52.404424      50.749242      52.571153   \n",
       "min         0.000000       0.000000       0.000000       0.000000   \n",
       "25%        13.125000      11.375000      13.125000      13.000000   \n",
       "50%        32.250000      28.125000      31.750000      32.125000   \n",
       "75%        66.500000      65.500000      64.500000      65.750000   \n",
       "max       315.875000     339.875000     318.875000     394.875000   \n",
       "std        53.279712      63.637131      56.634312      60.575753   \n",
       "\n",
       "                 age  model_ALPHA 560 UNIVERSAL  model_JACQUARD TF  \\\n",
       "count  154406.000000              154406.000000      154406.000000   \n",
       "mean       10.830350                   0.150959           0.320758   \n",
       "min         1.000000                   0.000000           0.000000   \n",
       "25%         7.000000                   0.000000           0.000000   \n",
       "50%        10.000000                   0.000000           0.000000   \n",
       "75%        16.000000                   0.000000           1.000000   \n",
       "max        20.000000                   1.000000           1.000000   \n",
       "std         5.548277                   0.358010           0.466770   \n",
       "\n",
       "       model_NOVA 62  model_NOVA 6HS  \n",
       "count  154406.000000   154406.000000  \n",
       "mean        0.113215        0.415068  \n",
       "min         0.000000        0.000000  \n",
       "25%         0.000000        0.000000  \n",
       "50%         0.000000        0.000000  \n",
       "75%         0.000000        1.000000  \n",
       "max         1.000000        1.000000  \n",
       "std         0.316856        0.492735  \n",
       "\n",
       "[8 rows x 32 columns]"
      ]
     },
     "execution_count": 39,
     "metadata": {},
     "output_type": "execute_result"
    }
   ],
   "source": [
    "final_df_labels.describe()"
   ]
  },
  {
   "cell_type": "code",
   "execution_count": 40,
   "id": "aec93d47",
   "metadata": {},
   "outputs": [
    {
     "data": {
      "text/html": [
       "<div>\n",
       "<style scoped>\n",
       "    .dataframe tbody tr th:only-of-type {\n",
       "        vertical-align: middle;\n",
       "    }\n",
       "\n",
       "    .dataframe tbody tr th {\n",
       "        vertical-align: top;\n",
       "    }\n",
       "\n",
       "    .dataframe thead th {\n",
       "        text-align: right;\n",
       "    }\n",
       "</style>\n",
       "<table border=\"1\" class=\"dataframe\">\n",
       "  <thead>\n",
       "    <tr style=\"text-align: right;\">\n",
       "      <th></th>\n",
       "      <th>machineID</th>\n",
       "      <th>datetime</th>\n",
       "      <th>voltmean_3h</th>\n",
       "      <th>rotatemean_3h</th>\n",
       "      <th>pressuremean_3h</th>\n",
       "      <th>vibrationmean_3h</th>\n",
       "      <th>voltsd_3h</th>\n",
       "      <th>rotatesd_3h</th>\n",
       "      <th>pressuresd_3h</th>\n",
       "      <th>vibrationsd_3h</th>\n",
       "      <th>...</th>\n",
       "      <th>Part_1</th>\n",
       "      <th>Part_2</th>\n",
       "      <th>Part_3</th>\n",
       "      <th>Part_4</th>\n",
       "      <th>age</th>\n",
       "      <th>model_ALPHA 560 UNIVERSAL</th>\n",
       "      <th>model_JACQUARD TF</th>\n",
       "      <th>model_NOVA 62</th>\n",
       "      <th>model_NOVA 6HS</th>\n",
       "      <th>failure</th>\n",
       "    </tr>\n",
       "  </thead>\n",
       "  <tbody>\n",
       "    <tr>\n",
       "      <th>0</th>\n",
       "      <td>1</td>\n",
       "      <td>2021-01-02 06:00:00</td>\n",
       "      <td>180.857530</td>\n",
       "      <td>470.172113</td>\n",
       "      <td>94.280586</td>\n",
       "      <td>42.585979</td>\n",
       "      <td>22.634509</td>\n",
       "      <td>22.853920</td>\n",
       "      <td>1.881499</td>\n",
       "      <td>6.693348</td>\n",
       "      <td>...</td>\n",
       "      <td>155.250</td>\n",
       "      <td>65.250</td>\n",
       "      <td>35.250</td>\n",
       "      <td>125.250</td>\n",
       "      <td>2</td>\n",
       "      <td>0</td>\n",
       "      <td>1</td>\n",
       "      <td>0</td>\n",
       "      <td>0</td>\n",
       "      <td>none</td>\n",
       "    </tr>\n",
       "    <tr>\n",
       "      <th>1</th>\n",
       "      <td>1</td>\n",
       "      <td>2021-01-02 09:00:00</td>\n",
       "      <td>190.106712</td>\n",
       "      <td>472.050647</td>\n",
       "      <td>101.401050</td>\n",
       "      <td>41.230043</td>\n",
       "      <td>15.099202</td>\n",
       "      <td>19.501492</td>\n",
       "      <td>2.798117</td>\n",
       "      <td>4.135271</td>\n",
       "      <td>...</td>\n",
       "      <td>155.375</td>\n",
       "      <td>65.375</td>\n",
       "      <td>35.375</td>\n",
       "      <td>125.375</td>\n",
       "      <td>2</td>\n",
       "      <td>0</td>\n",
       "      <td>1</td>\n",
       "      <td>0</td>\n",
       "      <td>0</td>\n",
       "      <td>none</td>\n",
       "    </tr>\n",
       "    <tr>\n",
       "      <th>2</th>\n",
       "      <td>1</td>\n",
       "      <td>2021-01-02 12:00:00</td>\n",
       "      <td>156.143089</td>\n",
       "      <td>473.039256</td>\n",
       "      <td>94.087971</td>\n",
       "      <td>45.381425</td>\n",
       "      <td>15.992174</td>\n",
       "      <td>62.777583</td>\n",
       "      <td>4.986140</td>\n",
       "      <td>5.430938</td>\n",
       "      <td>...</td>\n",
       "      <td>155.500</td>\n",
       "      <td>65.500</td>\n",
       "      <td>35.500</td>\n",
       "      <td>125.500</td>\n",
       "      <td>2</td>\n",
       "      <td>0</td>\n",
       "      <td>1</td>\n",
       "      <td>0</td>\n",
       "      <td>0</td>\n",
       "      <td>none</td>\n",
       "    </tr>\n",
       "    <tr>\n",
       "      <th>3</th>\n",
       "      <td>1</td>\n",
       "      <td>2021-01-02 15:00:00</td>\n",
       "      <td>158.458223</td>\n",
       "      <td>422.208281</td>\n",
       "      <td>98.615362</td>\n",
       "      <td>38.839316</td>\n",
       "      <td>19.404615</td>\n",
       "      <td>83.613846</td>\n",
       "      <td>4.573212</td>\n",
       "      <td>2.846899</td>\n",
       "      <td>...</td>\n",
       "      <td>155.625</td>\n",
       "      <td>65.625</td>\n",
       "      <td>35.625</td>\n",
       "      <td>125.625</td>\n",
       "      <td>2</td>\n",
       "      <td>0</td>\n",
       "      <td>1</td>\n",
       "      <td>0</td>\n",
       "      <td>0</td>\n",
       "      <td>none</td>\n",
       "    </tr>\n",
       "    <tr>\n",
       "      <th>4</th>\n",
       "      <td>1</td>\n",
       "      <td>2021-01-02 18:00:00</td>\n",
       "      <td>160.116287</td>\n",
       "      <td>444.272739</td>\n",
       "      <td>107.573098</td>\n",
       "      <td>36.189106</td>\n",
       "      <td>10.283735</td>\n",
       "      <td>32.058147</td>\n",
       "      <td>10.977006</td>\n",
       "      <td>1.199312</td>\n",
       "      <td>...</td>\n",
       "      <td>155.750</td>\n",
       "      <td>65.750</td>\n",
       "      <td>35.750</td>\n",
       "      <td>125.750</td>\n",
       "      <td>2</td>\n",
       "      <td>0</td>\n",
       "      <td>1</td>\n",
       "      <td>0</td>\n",
       "      <td>0</td>\n",
       "      <td>none</td>\n",
       "    </tr>\n",
       "  </tbody>\n",
       "</table>\n",
       "<p>5 rows × 33 columns</p>\n",
       "</div>"
      ],
      "text/plain": [
       "   machineID            datetime  voltmean_3h  rotatemean_3h  pressuremean_3h  \\\n",
       "0          1 2021-01-02 06:00:00   180.857530     470.172113        94.280586   \n",
       "1          1 2021-01-02 09:00:00   190.106712     472.050647       101.401050   \n",
       "2          1 2021-01-02 12:00:00   156.143089     473.039256        94.087971   \n",
       "3          1 2021-01-02 15:00:00   158.458223     422.208281        98.615362   \n",
       "4          1 2021-01-02 18:00:00   160.116287     444.272739       107.573098   \n",
       "\n",
       "   vibrationmean_3h  voltsd_3h  rotatesd_3h  pressuresd_3h  vibrationsd_3h  \\\n",
       "0         42.585979  22.634509    22.853920       1.881499        6.693348   \n",
       "1         41.230043  15.099202    19.501492       2.798117        4.135271   \n",
       "2         45.381425  15.992174    62.777583       4.986140        5.430938   \n",
       "3         38.839316  19.404615    83.613846       4.573212        2.846899   \n",
       "4         36.189106  10.283735    32.058147      10.977006        1.199312   \n",
       "\n",
       "   ...   Part_1  Part_2  Part_3   Part_4  age  model_ALPHA 560 UNIVERSAL  \\\n",
       "0  ...  155.250  65.250  35.250  125.250    2                          0   \n",
       "1  ...  155.375  65.375  35.375  125.375    2                          0   \n",
       "2  ...  155.500  65.500  35.500  125.500    2                          0   \n",
       "3  ...  155.625  65.625  35.625  125.625    2                          0   \n",
       "4  ...  155.750  65.750  35.750  125.750    2                          0   \n",
       "\n",
       "   model_JACQUARD TF  model_NOVA 62  model_NOVA 6HS  failure  \n",
       "0                  1              0               0     none  \n",
       "1                  1              0               0     none  \n",
       "2                  1              0               0     none  \n",
       "3                  1              0               0     none  \n",
       "4                  1              0               0     none  \n",
       "\n",
       "[5 rows x 33 columns]"
      ]
     },
     "execution_count": 40,
     "metadata": {},
     "output_type": "execute_result"
    }
   ],
   "source": [
    "final_df_labels.head()"
   ]
  },
  {
   "cell_type": "code",
   "execution_count": 41,
   "id": "da60d058",
   "metadata": {},
   "outputs": [],
   "source": [
    "# Pto quiebre: Dividmos el dataset en las primeras fechas para training y el para Testing\n",
    "threshold_dates = [\n",
    "    pd.to_datetime(\"2021-09-30 01:00:00\"), pd.to_datetime(\"2021-10-01 01:00:00\")\n",
    "]"
   ]
  },
  {
   "cell_type": "code",
   "execution_count": 42,
   "id": "01c4c966",
   "metadata": {},
   "outputs": [
    {
     "data": {
      "text/plain": [
       "[Timestamp('2021-09-30 01:00:00'), Timestamp('2021-10-01 01:00:00')]"
      ]
     },
     "execution_count": 42,
     "metadata": {},
     "output_type": "execute_result"
    }
   ],
   "source": [
    "threshold_dates"
   ]
  },
  {
   "cell_type": "code",
   "execution_count": 43,
   "id": "3717777e",
   "metadata": {},
   "outputs": [],
   "source": [
    "test_results = []\n",
    "models = []\n",
    "total = len(threshold_dates)\n",
    "\n",
    "last_train_date = threshold_dates[0]\n",
    "first_test_date = threshold_dates[1]"
   ]
  },
  {
   "cell_type": "code",
   "execution_count": 44,
   "id": "e6c10d8e",
   "metadata": {},
   "outputs": [
    {
     "name": "stdout",
     "output_type": "stream",
     "text": [
      "114865 para training.\n",
      "39117 para testing\n",
      "34.1% de los datos se usarán para pruebas.\n"
     ]
    }
   ],
   "source": [
    "ntraining = final_df_labels.loc[final_df_labels[\"datetime\"] < last_train_date]\n",
    "ntesting = final_df_labels.loc[final_df_labels[\"datetime\"] > first_test_date]\n",
    "print(f\"{ntraining.shape[0]} para training.\")\n",
    "print(f\"{ntesting.shape[0]} para testing\")\n",
    "print(f\"{ntesting.shape[0] / ntraining.shape[0] * 100:0.1f}% de los datos se usarán para pruebas.\")"
   ]
  },
  {
   "cell_type": "code",
   "execution_count": 45,
   "id": "225119c6",
   "metadata": {},
   "outputs": [
    {
     "data": {
      "text/plain": [
       "39117"
      ]
     },
     "execution_count": 45,
     "metadata": {},
     "output_type": "execute_result"
    }
   ],
   "source": [
    "fails_test"
   ]
  },
  {
   "cell_type": "code",
   "execution_count": 46,
   "id": "66cd657f",
   "metadata": {},
   "outputs": [
    {
     "name": "stdout",
     "output_type": "stream",
     "text": [
      "1.8% de los casos son fallas en set de entrenamiento.\n",
      "1.6% de los casos son fallas en set de pruebas.\n"
     ]
    }
   ],
   "source": [
    "fails_train = ntraining[ntraining[\"failure\"] != \"none\"].shape[0]\n",
    "no_fails_train = ntraining[ntraining[\"failure\"] == \"none\"].shape[0]\n",
    "fails_test = ntesting[ntesting[\"failure\"] != \"none\"].shape[0]\n",
    "no_fails_test = ntesting[ntesting[\"failure\"] == \"none\"].shape[0]\n",
    "\n",
    "print(f\"{fails_train / no_fails_train * 100:0.1f}% de los casos son fallas en set de entrenamiento.\")\n",
    "print(f\"{fails_test / no_fails_test * 100:0.1f}% de los casos son fallas en set de pruebas.\")"
   ]
  },
  {
   "cell_type": "markdown",
   "id": "957cc6f9",
   "metadata": {},
   "source": [
    "Nos deshacemos de la data datetime, machineID, y failure para los conjuntos de \"*features*\".\n",
    "La razón por la cual se bota el \"datetime\" es porque ya tenemos una variable de tiempo pero numérica que nos puede ayudar a predecir, cuando hicimos la conversión del DF_Maintenance en la cual a cada parte le pusimos días desde su último mantenimiento."
   ]
  },
  {
   "cell_type": "code",
   "execution_count": 47,
   "id": "7823e19e",
   "metadata": {},
   "outputs": [],
   "source": [
    "label_encoder = preprocessing.LabelEncoder() \n",
    "\n",
    "final_df_labels['failure']= label_encoder.fit_transform(final_df_labels['failure']) "
   ]
  },
  {
   "cell_type": "code",
   "execution_count": 48,
   "id": "ea62e67d",
   "metadata": {},
   "outputs": [],
   "source": [
    "## A la vez que tomamos el training dataset basado en las fechas mas antiguas y el test dataset basado en las fechas mas recientes, \n",
    "## también, eliminamos/dropeamos las columnas de datetime, machineId y Failure que es nuestra target label.\n",
    "train_y = final_df_labels.loc[final_df_labels[\"datetime\"] < last_train_date, \"failure\"]\n",
    "train_X = final_df_labels.loc[final_df_labels[\"datetime\"] < last_train_date].drop([\"datetime\",\n",
    "                                                                                    \"machineID\",\n",
    "                                                                                    \"failure\"], axis=1)\n",
    "test_y = final_df_labels.loc[final_df_labels[\"datetime\"] > first_test_date, \"failure\"]\n",
    "test_X = final_df_labels.loc[final_df_labels[\"datetime\"] > first_test_date].drop([\"datetime\",\n",
    "                                                                                   \"machineID\",\n",
    "                                                                                   \"failure\"], axis=1)"
   ]
  },
  {
   "cell_type": "code",
   "execution_count": 49,
   "id": "e41a527b",
   "metadata": {},
   "outputs": [
    {
     "data": {
      "text/html": [
       "<div>\n",
       "<style scoped>\n",
       "    .dataframe tbody tr th:only-of-type {\n",
       "        vertical-align: middle;\n",
       "    }\n",
       "\n",
       "    .dataframe tbody tr th {\n",
       "        vertical-align: top;\n",
       "    }\n",
       "\n",
       "    .dataframe thead th {\n",
       "        text-align: right;\n",
       "    }\n",
       "</style>\n",
       "<table border=\"1\" class=\"dataframe\">\n",
       "  <thead>\n",
       "    <tr style=\"text-align: right;\">\n",
       "      <th></th>\n",
       "      <th>voltmean_3h</th>\n",
       "      <th>rotatemean_3h</th>\n",
       "      <th>pressuremean_3h</th>\n",
       "      <th>vibrationmean_3h</th>\n",
       "      <th>voltsd_3h</th>\n",
       "      <th>rotatesd_3h</th>\n",
       "      <th>pressuresd_3h</th>\n",
       "      <th>vibrationsd_3h</th>\n",
       "      <th>voltmean_24h</th>\n",
       "      <th>rotatemean_24h</th>\n",
       "      <th>...</th>\n",
       "      <th>error5_count</th>\n",
       "      <th>Part_1</th>\n",
       "      <th>Part_2</th>\n",
       "      <th>Part_3</th>\n",
       "      <th>Part_4</th>\n",
       "      <th>age</th>\n",
       "      <th>model_ALPHA 560 UNIVERSAL</th>\n",
       "      <th>model_JACQUARD TF</th>\n",
       "      <th>model_NOVA 62</th>\n",
       "      <th>model_NOVA 6HS</th>\n",
       "    </tr>\n",
       "  </thead>\n",
       "  <tbody>\n",
       "    <tr>\n",
       "      <th>0</th>\n",
       "      <td>180.857530</td>\n",
       "      <td>470.172113</td>\n",
       "      <td>94.280586</td>\n",
       "      <td>42.585979</td>\n",
       "      <td>22.634509</td>\n",
       "      <td>22.853920</td>\n",
       "      <td>1.881499</td>\n",
       "      <td>6.693348</td>\n",
       "      <td>170.299151</td>\n",
       "      <td>410.106823</td>\n",
       "      <td>...</td>\n",
       "      <td>0.0</td>\n",
       "      <td>155.250</td>\n",
       "      <td>65.250</td>\n",
       "      <td>35.250</td>\n",
       "      <td>125.250</td>\n",
       "      <td>2</td>\n",
       "      <td>0</td>\n",
       "      <td>1</td>\n",
       "      <td>0</td>\n",
       "      <td>0</td>\n",
       "    </tr>\n",
       "    <tr>\n",
       "      <th>1</th>\n",
       "      <td>190.106712</td>\n",
       "      <td>472.050647</td>\n",
       "      <td>101.401050</td>\n",
       "      <td>41.230043</td>\n",
       "      <td>15.099202</td>\n",
       "      <td>19.501492</td>\n",
       "      <td>2.798117</td>\n",
       "      <td>4.135271</td>\n",
       "      <td>170.514516</td>\n",
       "      <td>410.496539</td>\n",
       "      <td>...</td>\n",
       "      <td>0.0</td>\n",
       "      <td>155.375</td>\n",
       "      <td>65.375</td>\n",
       "      <td>35.375</td>\n",
       "      <td>125.375</td>\n",
       "      <td>2</td>\n",
       "      <td>0</td>\n",
       "      <td>1</td>\n",
       "      <td>0</td>\n",
       "      <td>0</td>\n",
       "    </tr>\n",
       "    <tr>\n",
       "      <th>2</th>\n",
       "      <td>156.143089</td>\n",
       "      <td>473.039256</td>\n",
       "      <td>94.087971</td>\n",
       "      <td>45.381425</td>\n",
       "      <td>15.992174</td>\n",
       "      <td>62.777583</td>\n",
       "      <td>4.986140</td>\n",
       "      <td>5.430938</td>\n",
       "      <td>171.619836</td>\n",
       "      <td>420.734019</td>\n",
       "      <td>...</td>\n",
       "      <td>0.0</td>\n",
       "      <td>155.500</td>\n",
       "      <td>65.500</td>\n",
       "      <td>35.500</td>\n",
       "      <td>125.500</td>\n",
       "      <td>2</td>\n",
       "      <td>0</td>\n",
       "      <td>1</td>\n",
       "      <td>0</td>\n",
       "      <td>0</td>\n",
       "    </tr>\n",
       "  </tbody>\n",
       "</table>\n",
       "<p>3 rows × 30 columns</p>\n",
       "</div>"
      ],
      "text/plain": [
       "   voltmean_3h  rotatemean_3h  pressuremean_3h  vibrationmean_3h  voltsd_3h  \\\n",
       "0   180.857530     470.172113        94.280586         42.585979  22.634509   \n",
       "1   190.106712     472.050647       101.401050         41.230043  15.099202   \n",
       "2   156.143089     473.039256        94.087971         45.381425  15.992174   \n",
       "\n",
       "   rotatesd_3h  pressuresd_3h  vibrationsd_3h  voltmean_24h  rotatemean_24h  \\\n",
       "0    22.853920       1.881499        6.693348    170.299151      410.106823   \n",
       "1    19.501492       2.798117        4.135271    170.514516      410.496539   \n",
       "2    62.777583       4.986140        5.430938    171.619836      420.734019   \n",
       "\n",
       "   ...  error5_count   Part_1  Part_2  Part_3   Part_4  age  \\\n",
       "0  ...           0.0  155.250  65.250  35.250  125.250    2   \n",
       "1  ...           0.0  155.375  65.375  35.375  125.375    2   \n",
       "2  ...           0.0  155.500  65.500  35.500  125.500    2   \n",
       "\n",
       "   model_ALPHA 560 UNIVERSAL  model_JACQUARD TF  model_NOVA 62  model_NOVA 6HS  \n",
       "0                          0                  1              0               0  \n",
       "1                          0                  1              0               0  \n",
       "2                          0                  1              0               0  \n",
       "\n",
       "[3 rows x 30 columns]"
      ]
     },
     "execution_count": 49,
     "metadata": {},
     "output_type": "execute_result"
    }
   ],
   "source": [
    "train_X.head(3)"
   ]
  },
  {
   "cell_type": "code",
   "execution_count": 50,
   "id": "98cb72b1",
   "metadata": {},
   "outputs": [
    {
     "data": {
      "text/plain": [
       "0    4\n",
       "1    4\n",
       "Name: failure, dtype: int32"
      ]
     },
     "execution_count": 50,
     "metadata": {},
     "output_type": "execute_result"
    }
   ],
   "source": [
    "train_y.head(2)"
   ]
  },
  {
   "cell_type": "code",
   "execution_count": 51,
   "id": "c9890c2b",
   "metadata": {},
   "outputs": [
    {
     "data": {
      "text/plain": [
       "array([4, 0, 1, 2, 3])"
      ]
     },
     "execution_count": 51,
     "metadata": {},
     "output_type": "execute_result"
    }
   ],
   "source": [
    "train_y.unique()\n",
    "## Donde 4 = None, 0 = Part_1, 1 = Part_2, 2 = Part_3, 3 = Part_4, donde cada Part es la parte que falla de la máquina."
   ]
  },
  {
   "cell_type": "code",
   "execution_count": null,
   "id": "e78efa64",
   "metadata": {},
   "outputs": [],
   "source": []
  },
  {
   "cell_type": "code",
   "execution_count": 52,
   "id": "f47231ec",
   "metadata": {},
   "outputs": [
    {
     "data": {
      "text/html": [
       "<style>#sk-container-id-2 {color: black;}#sk-container-id-2 pre{padding: 0;}#sk-container-id-2 div.sk-toggleable {background-color: white;}#sk-container-id-2 label.sk-toggleable__label {cursor: pointer;display: block;width: 100%;margin-bottom: 0;padding: 0.3em;box-sizing: border-box;text-align: center;}#sk-container-id-2 label.sk-toggleable__label-arrow:before {content: \"▸\";float: left;margin-right: 0.25em;color: #696969;}#sk-container-id-2 label.sk-toggleable__label-arrow:hover:before {color: black;}#sk-container-id-2 div.sk-estimator:hover label.sk-toggleable__label-arrow:before {color: black;}#sk-container-id-2 div.sk-toggleable__content {max-height: 0;max-width: 0;overflow: hidden;text-align: left;background-color: #f0f8ff;}#sk-container-id-2 div.sk-toggleable__content pre {margin: 0.2em;color: black;border-radius: 0.25em;background-color: #f0f8ff;}#sk-container-id-2 input.sk-toggleable__control:checked~div.sk-toggleable__content {max-height: 200px;max-width: 100%;overflow: auto;}#sk-container-id-2 input.sk-toggleable__control:checked~label.sk-toggleable__label-arrow:before {content: \"▾\";}#sk-container-id-2 div.sk-estimator input.sk-toggleable__control:checked~label.sk-toggleable__label {background-color: #d4ebff;}#sk-container-id-2 div.sk-label input.sk-toggleable__control:checked~label.sk-toggleable__label {background-color: #d4ebff;}#sk-container-id-2 input.sk-hidden--visually {border: 0;clip: rect(1px 1px 1px 1px);clip: rect(1px, 1px, 1px, 1px);height: 1px;margin: -1px;overflow: hidden;padding: 0;position: absolute;width: 1px;}#sk-container-id-2 div.sk-estimator {font-family: monospace;background-color: #f0f8ff;border: 1px dotted black;border-radius: 0.25em;box-sizing: border-box;margin-bottom: 0.5em;}#sk-container-id-2 div.sk-estimator:hover {background-color: #d4ebff;}#sk-container-id-2 div.sk-parallel-item::after {content: \"\";width: 100%;border-bottom: 1px solid gray;flex-grow: 1;}#sk-container-id-2 div.sk-label:hover label.sk-toggleable__label {background-color: #d4ebff;}#sk-container-id-2 div.sk-serial::before {content: \"\";position: absolute;border-left: 1px solid gray;box-sizing: border-box;top: 0;bottom: 0;left: 50%;z-index: 0;}#sk-container-id-2 div.sk-serial {display: flex;flex-direction: column;align-items: center;background-color: white;padding-right: 0.2em;padding-left: 0.2em;position: relative;}#sk-container-id-2 div.sk-item {position: relative;z-index: 1;}#sk-container-id-2 div.sk-parallel {display: flex;align-items: stretch;justify-content: center;background-color: white;position: relative;}#sk-container-id-2 div.sk-item::before, #sk-container-id-2 div.sk-parallel-item::before {content: \"\";position: absolute;border-left: 1px solid gray;box-sizing: border-box;top: 0;bottom: 0;left: 50%;z-index: -1;}#sk-container-id-2 div.sk-parallel-item {display: flex;flex-direction: column;z-index: 1;position: relative;background-color: white;}#sk-container-id-2 div.sk-parallel-item:first-child::after {align-self: flex-end;width: 50%;}#sk-container-id-2 div.sk-parallel-item:last-child::after {align-self: flex-start;width: 50%;}#sk-container-id-2 div.sk-parallel-item:only-child::after {width: 0;}#sk-container-id-2 div.sk-dashed-wrapped {border: 1px dashed gray;margin: 0 0.4em 0.5em 0.4em;box-sizing: border-box;padding-bottom: 0.4em;background-color: white;}#sk-container-id-2 div.sk-label label {font-family: monospace;font-weight: bold;display: inline-block;line-height: 1.2em;}#sk-container-id-2 div.sk-label-container {text-align: center;}#sk-container-id-2 div.sk-container {/* jupyter's `normalize.less` sets `[hidden] { display: none; }` but bootstrap.min.css set `[hidden] { display: none !important; }` so we also need the `!important` here to be able to override the default hidden behavior on the sphinx rendered scikit-learn.org. See: https://github.com/scikit-learn/scikit-learn/issues/21755 */display: inline-block !important;position: relative;}#sk-container-id-2 div.sk-text-repr-fallback {display: none;}</style><div id=\"sk-container-id-2\" class=\"sk-top-container\"><div class=\"sk-text-repr-fallback\"><pre>XGBClassifier(base_score=None, booster=None, callbacks=None,\n",
       "              colsample_bylevel=None, colsample_bynode=None,\n",
       "              colsample_bytree=None, device=None, early_stopping_rounds=None,\n",
       "              enable_categorical=False, eval_metric=None, feature_types=None,\n",
       "              gamma=None, grow_policy=None, importance_type=None,\n",
       "              interaction_constraints=None, learning_rate=None, max_bin=None,\n",
       "              max_cat_threshold=None, max_cat_to_onehot=None,\n",
       "              max_delta_step=None, max_depth=None, max_leaves=None,\n",
       "              min_child_weight=None, missing=nan, monotone_constraints=None,\n",
       "              multi_strategy=None, n_estimators=None, n_jobs=-1,\n",
       "              num_parallel_tree=None, objective=&#x27;multi:softprob&#x27;, ...)</pre><b>In a Jupyter environment, please rerun this cell to show the HTML representation or trust the notebook. <br />On GitHub, the HTML representation is unable to render, please try loading this page with nbviewer.org.</b></div><div class=\"sk-container\" hidden><div class=\"sk-item\"><div class=\"sk-estimator sk-toggleable\"><input class=\"sk-toggleable__control sk-hidden--visually\" id=\"sk-estimator-id-2\" type=\"checkbox\" checked><label for=\"sk-estimator-id-2\" class=\"sk-toggleable__label sk-toggleable__label-arrow\">XGBClassifier</label><div class=\"sk-toggleable__content\"><pre>XGBClassifier(base_score=None, booster=None, callbacks=None,\n",
       "              colsample_bylevel=None, colsample_bynode=None,\n",
       "              colsample_bytree=None, device=None, early_stopping_rounds=None,\n",
       "              enable_categorical=False, eval_metric=None, feature_types=None,\n",
       "              gamma=None, grow_policy=None, importance_type=None,\n",
       "              interaction_constraints=None, learning_rate=None, max_bin=None,\n",
       "              max_cat_threshold=None, max_cat_to_onehot=None,\n",
       "              max_delta_step=None, max_depth=None, max_leaves=None,\n",
       "              min_child_weight=None, missing=nan, monotone_constraints=None,\n",
       "              multi_strategy=None, n_estimators=None, n_jobs=-1,\n",
       "              num_parallel_tree=None, objective=&#x27;multi:softprob&#x27;, ...)</pre></div></div></div></div></div>"
      ],
      "text/plain": [
       "XGBClassifier(base_score=None, booster=None, callbacks=None,\n",
       "              colsample_bylevel=None, colsample_bynode=None,\n",
       "              colsample_bytree=None, device=None, early_stopping_rounds=None,\n",
       "              enable_categorical=False, eval_metric=None, feature_types=None,\n",
       "              gamma=None, grow_policy=None, importance_type=None,\n",
       "              interaction_constraints=None, learning_rate=None, max_bin=None,\n",
       "              max_cat_threshold=None, max_cat_to_onehot=None,\n",
       "              max_delta_step=None, max_depth=None, max_leaves=None,\n",
       "              min_child_weight=None, missing=nan, monotone_constraints=None,\n",
       "              multi_strategy=None, n_estimators=None, n_jobs=-1,\n",
       "              num_parallel_tree=None, objective='multi:softprob', ...)"
      ]
     },
     "execution_count": 52,
     "metadata": {},
     "output_type": "execute_result"
    }
   ],
   "source": [
    "model = xgb(n_jobs=-1)\n",
    "model.fit(train_X, train_y)"
   ]
  },
  {
   "cell_type": "code",
   "execution_count": 53,
   "id": "6aeb1280",
   "metadata": {},
   "outputs": [],
   "source": [
    "test_result = pd.DataFrame(final_df_labels.loc[final_df_labels[\"datetime\"] > first_test_date])\n",
    "test_result[\"predicted_failure\"] = model.predict(test_X)\n",
    "test_results.append(test_result)\n",
    "models.append(model)"
   ]
  },
  {
   "cell_type": "code",
   "execution_count": 54,
   "id": "f8fd5240",
   "metadata": {},
   "outputs": [
    {
     "data": {
      "image/png": "[encoded data removed]",
      "text/plain": [
       "<Figure size 1000x1000 with 1 Axes>"
      ]
     },
     "metadata": {},
     "output_type": "display_data"
    }
   ],
   "source": [
    "plt.figure(figsize=(10, 10))\n",
    "labels, importances = zip(*sorted(zip(test_X.columns, models[0].feature_importances_), reverse=False, key=lambda x: x[1]))\n",
    "plt.yticks(range(len(labels)), labels)\n",
    "_, labels = plt.xticks()\n",
    "plt.setp(labels, rotation=0)\n",
    "plt.barh(range(len(importances)), importances)\n",
    "plt.ylabel(\"Características\")\n",
    "plt.xlabel(\"Importancia (%)\")\n",
    "plt.title(\"Explicación del Modelo\")\n",
    "plt.show()"
   ]
  },
  {
   "cell_type": "code",
   "execution_count": 55,
   "id": "92a81ae9",
   "metadata": {},
   "outputs": [
    {
     "data": {
      "image/png": "[encoded data removed]",
      "text/plain": [
       "<Figure size 800x400 with 1 Axes>"
      ]
     },
     "metadata": {},
     "output_type": "display_data"
    }
   ],
   "source": [
    "plt.figure(figsize=(8, 4))\n",
    "final_df_labels[\"failure\"].value_counts().plot(kind=\"bar\", rot=0)\n",
    "plt.title(\"Distribución de Causas de Fallos\")\n",
    "plt.xlabel(\"Componente\")\n",
    "plt.ylabel(\"Cantidad\")\n",
    "plt.show()"
   ]
  },
  {
   "cell_type": "code",
   "execution_count": 56,
   "id": "7e42a995",
   "metadata": {},
   "outputs": [
    {
     "data": {
      "text/plain": [
       "array([4, 4, 4, ..., 4, 4, 4], dtype=int64)"
      ]
     },
     "execution_count": 56,
     "metadata": {},
     "output_type": "execute_result"
    }
   ],
   "source": [
    " model.predict(test_X)"
   ]
  },
  {
   "cell_type": "code",
   "execution_count": 57,
   "id": "fb045bb5",
   "metadata": {},
   "outputs": [
    {
     "name": "stdout",
     "output_type": "stream",
     "text": [
      "              precision    recall  f1-score   support\n",
      "\n",
      "           0       0.92      0.97      0.95       161\n",
      "           1       0.91      0.98      0.94       233\n",
      "           2       1.00      0.89      0.94        95\n",
      "           3       0.98      0.98      0.98       116\n",
      "           4       1.00      1.00      1.00     38512\n",
      "\n",
      "    accuracy                           1.00     39117\n",
      "   macro avg       0.96      0.97      0.96     39117\n",
      "weighted avg       1.00      1.00      1.00     39117\n",
      "\n",
      "[[  156     5     0     0     0]\n",
      " [    0   229     0     0     4]\n",
      " [    0     0    85     0    10]\n",
      " [    1     1     0   114     0]\n",
      " [   12    17     0     2 38481]]\n"
     ]
    }
   ],
   "source": [
    "print(classification_report(test_y, model.predict(test_X)))\n",
    "print(confusion_matrix(test_y,model.predict(test_X)))"
   ]
  },
  {
   "cell_type": "code",
   "execution_count": 58,
   "id": "3c7e82d0",
   "metadata": {},
   "outputs": [
    {
     "data": {
      "text/plain": [
       "array([4, 4, 4, ..., 4, 4, 4], dtype=int64)"
      ]
     },
     "execution_count": 58,
     "metadata": {},
     "output_type": "execute_result"
    }
   ],
   "source": [
    "model.predict(test_X)"
   ]
  },
  {
   "cell_type": "code",
   "execution_count": 59,
   "id": "f5515463",
   "metadata": {},
   "outputs": [
    {
     "data": {
      "image/png": "[encoded data removed]",
      "text/plain": [
       "<Figure size 640x480 with 2 Axes>"
      ]
     },
     "metadata": {},
     "output_type": "display_data"
    }
   ],
   "source": [
    "confusion_matrix = confusion_matrix(test_y.to_numpy(), \n",
    "                                    model.predict(test_X))\n",
    "\n",
    "cm_display = metrics.ConfusionMatrixDisplay(confusion_matrix = confusion_matrix)\n",
    "\n",
    "cm_display.plot()\n",
    "plt.show()\n",
    "\n",
    "## Donde 4 = None, 0 = Part_1, 1 = Part_2, 2 = Part_3, 3 = Part_4, donde cada Part es la parte que falla de la máquina."
   ]
  },
  {
   "cell_type": "markdown",
   "id": "8ca3499e",
   "metadata": {},
   "source": [
    "A pesar del fuertísimo \"*Data Imbalance*\" El modelo predice muy bien, seguramente porque la **mezcla** de features SI debe estar muy bien correlacionada con la posibilidad de una falla, lo cual iene sentido cuando vemos la importancia de las características del modelo, en el gráfico de arriba."
   ]
  },
  {
   "cell_type": "markdown",
   "id": "682e5921",
   "metadata": {},
   "source": [
    "#### Modelando con RandomForestClassifier"
   ]
  },
  {
   "cell_type": "code",
   "execution_count": 60,
   "id": "59d4af4c",
   "metadata": {},
   "outputs": [],
   "source": [
    "RFR = RandomForestClassifier(max_depth=40, n_estimators=30).fit(train_X, train_y)"
   ]
  },
  {
   "cell_type": "code",
   "execution_count": 61,
   "id": "6436190e",
   "metadata": {},
   "outputs": [
    {
     "name": "stdout",
     "output_type": "stream",
     "text": [
      "              precision    recall  f1-score   support\n",
      "\n",
      "           0       0.91      0.90      0.91       161\n",
      "           1       0.82      1.00      0.90       233\n",
      "           2       1.00      0.79      0.88        95\n",
      "           3       1.00      0.98      0.99       116\n",
      "           4       1.00      1.00      1.00     38512\n",
      "\n",
      "    accuracy                           1.00     39117\n",
      "   macro avg       0.95      0.93      0.94     39117\n",
      "weighted avg       1.00      1.00      1.00     39117\n",
      "\n"
     ]
    }
   ],
   "source": [
    "print(classification_report(test_y, RFR.predict(test_X)))"
   ]
  },
  {
   "cell_type": "code",
   "execution_count": 62,
   "id": "259d512d",
   "metadata": {},
   "outputs": [],
   "source": [
    "yy = test_y.tolist()\n",
    "xx = RFR.predict(test_X).tolist()"
   ]
  },
  {
   "cell_type": "code",
   "execution_count": 63,
   "id": "bd99dc90",
   "metadata": {},
   "outputs": [
    {
     "ename": "TypeError",
     "evalue": "'numpy.ndarray' object is not callable",
     "output_type": "error",
     "traceback": [
      "\u001b[1;31m---------------------------------------------------------------------------\u001b[0m",
      "\u001b[1;31mTypeError\u001b[0m                                 Traceback (most recent call last)",
      "Cell \u001b[1;32mIn[63], line 4\u001b[0m\n\u001b[0;32m      1\u001b[0m \u001b[38;5;66;03m# confusion_matrix_2 = confusion_matrix(test_y.tolist(), \u001b[39;00m\n\u001b[0;32m      2\u001b[0m \u001b[38;5;66;03m#                                     RFR.predict(test_X).tolist())\u001b[39;00m\n\u001b[1;32m----> 4\u001b[0m confusion_matrix_2 \u001b[38;5;241m=\u001b[39m confusion_matrix(yy, \n\u001b[0;32m      5\u001b[0m                                     xx)\n\u001b[0;32m      7\u001b[0m cm_display_2 \u001b[38;5;241m=\u001b[39m metrics\u001b[38;5;241m.\u001b[39mConfusionMatrixDisplay(confusion_matrix_2 \u001b[38;5;241m=\u001b[39m confusion_matrix_2)\n\u001b[0;32m      9\u001b[0m cm_display_2\u001b[38;5;241m.\u001b[39mplot()\n",
      "\u001b[1;31mTypeError\u001b[0m: 'numpy.ndarray' object is not callable"
     ]
    }
   ],
   "source": [
    "# confusion_matrix_2 = confusion_matrix(test_y.tolist(), \n",
    "#                                     RFR.predict(test_X).tolist())\n",
    "\n",
    "confusion_matrix_2 = confusion_matrix(yy, \n",
    "                                    xx)\n",
    "\n",
    "cm_display_2 = metrics.ConfusionMatrixDisplay(confusion_matrix_2 = confusion_matrix_2)\n",
    "\n",
    "cm_display_2.plot()\n",
    "plt.show()"
   ]
  },
  {
   "cell_type": "markdown",
   "id": "4078aace",
   "metadata": {},
   "source": [
    "#### Modelando con LogisticRegression"
   ]
  },
  {
   "cell_type": "code",
   "execution_count": null,
   "id": "ecea52f0",
   "metadata": {},
   "outputs": [],
   "source": [
    "LREG = LogisticRegression(max_iter=200).fit(train_X, train_y)"
   ]
  },
  {
   "cell_type": "code",
   "execution_count": null,
   "id": "0bcd3efd",
   "metadata": {},
   "outputs": [],
   "source": [
    "print(classification_report(test_y, LREG.predict(test_X)))"
   ]
  },
  {
   "cell_type": "code",
   "execution_count": null,
   "id": "66d79baa",
   "metadata": {},
   "outputs": [],
   "source": [
    "confusion_matrix_3 = confusion_matrix(test_y.to_numpy(), \n",
    "                                    LREG.predict(test_X))\n",
    "\n",
    "cm_display_3 = metrics.ConfusionMatrixDisplay(confusion_matrix_3 = confusion_matrix_3)\n",
    "\n",
    "cm_display_3.plot()\n",
    "plt.show()"
   ]
  },
  {
   "cell_type": "code",
   "execution_count": null,
   "id": "b702f67c",
   "metadata": {},
   "outputs": [],
   "source": []
  },
  {
   "cell_type": "code",
   "execution_count": null,
   "id": "d7c67622",
   "metadata": {},
   "outputs": [],
   "source": []
  },
  {
   "cell_type": "code",
   "execution_count": null,
   "id": "49f3c1a1",
   "metadata": {},
   "outputs": [],
   "source": []
  },
  {
   "cell_type": "code",
   "execution_count": null,
   "id": "e4b121e0",
   "metadata": {},
   "outputs": [],
   "source": []
  },
  {
   "cell_type": "code",
   "execution_count": null,
   "id": "770792e9",
   "metadata": {},
   "outputs": [],
   "source": []
  },
  {
   "cell_type": "code",
   "execution_count": null,
   "id": "b66186b5",
   "metadata": {},
   "outputs": [],
   "source": []
  },
  {
   "cell_type": "code",
   "execution_count": null,
   "id": "76df37f0",
   "metadata": {},
   "outputs": [],
   "source": []
  },
  {
   "cell_type": "code",
   "execution_count": null,
   "id": "d86df284",
   "metadata": {},
   "outputs": [],
   "source": []
  },
  {
   "cell_type": "code",
   "execution_count": null,
   "id": "6226fffc",
   "metadata": {},
   "outputs": [],
   "source": []
  },
  {
   "cell_type": "code",
   "execution_count": null,
   "id": "0e0b2e7f",
   "metadata": {},
   "outputs": [],
   "source": []
  }
 ],
 "metadata": {
  "kernelspec": {
   "display_name": "Python 3 (ipykernel)",
   "language": "python",
   "name": "python3"
  },
  "language_info": {
   "codemirror_mode": {
    "name": "ipython",
    "version": 3
   },
   "file_extension": ".py",
   "mimetype": "text/x-python",
   "name": "python",
   "nbconvert_exporter": "python",
   "pygments_lexer": "ipython3",
   "version": "3.11.5"
  }
 },
 "nbformat": 4,
 "nbformat_minor": 5
}
